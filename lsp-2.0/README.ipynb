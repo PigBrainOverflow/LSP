{
 "cells": [
  {
   "cell_type": "markdown",
   "metadata": {},
   "source": [
    "## TF CSGO\n",
    "### TensorFlow Computational Static Graph Oracle\n",
    "### Visual Studio Code Extension\n",
    "\n",
    "provides\n",
    "1. `Decorators`\n",
    "2. `Intellisense`\n",
    "3. `Computational Graph Visualization`\n",
    "\n",
    "This extension tells shape, dtype & device of each tensor according to the following rules:\n",
    "1. If a user decorates a block and it cannot be deduced, it will trust the user.\n",
    "2. If a user decorates a block and it's exactly what can be deduced, nothing will happen.\n",
    "3. If a user decorates a block and it's not what can be deduced, it will `WARN` the user."
   ]
  },
  {
   "cell_type": "markdown",
   "metadata": {},
   "source": [
    "### Tests"
   ]
  },
  {
   "cell_type": "code",
   "execution_count": 1,
   "metadata": {},
   "outputs": [],
   "source": [
    "TEST_PATH=\"C:\\\\Users\\\\xiaokong\\\\Desktop\\\\lsp-2.0\\\\tests\\\\\"    # set your test path here\n",
    "import kernel\n",
    "from typing import List\n",
    "\n",
    "def test(filename: str) -> List:\n",
    "    tree = kernel.parse_file(TEST_PATH + filename)\n",
    "    analyzer = kernel.Analyzer()\n",
    "    top_visitor = kernel.TopVisitor(analyzer)\n",
    "    top_visitor.visit(tree)\n",
    "    print(analyzer.diag_msgs)"
   ]
  },
  {
   "cell_type": "code",
   "execution_count": 22,
   "metadata": {},
   "outputs": [
    {
     "name": "stdout",
     "output_type": "stream",
     "text": [
      "[]\n"
     ]
    }
   ],
   "source": [
    "test(\"create_tensor.py\")\n",
    "# no problem"
   ]
  },
  {
   "cell_type": "code",
   "execution_count": 24,
   "metadata": {},
   "outputs": [
    {
     "name": "stdout",
     "output_type": "stream",
     "text": [
      "[{'lineno': 30, 'col_offset': 0, 'retval_shape': (1, 112, 112, 64), 'output_shape': (1, 112, 112, 32), 'message': 'block_assert requires compatible shapes'}]\n"
     ]
    }
   ],
   "source": [
    "test(\"create_block.py\")\n",
    "# in this test, we create a block with wrong a input shape, so we should get a warning message"
   ]
  },
  {
   "cell_type": "code",
   "execution_count": 4,
   "metadata": {},
   "outputs": [
    {
     "name": "stdout",
     "output_type": "stream",
     "text": [
      "[{'lineno': 14, 'col_offset': 4, 'left_shape': (224, 224, 3), 'right_shape': (224, 224, 2), 'message': 'element-wise binary operation requires the same shape'}]\n"
     ]
    }
   ],
   "source": [
    "test(\"add.py\")\n",
    "# in this test, we add two tensors with different shapes, so we should get a warning message"
   ]
  },
  {
   "cell_type": "code",
   "execution_count": 5,
   "metadata": {},
   "outputs": [
    {
     "name": "stdout",
     "output_type": "stream",
     "text": [
      "[{'lineno': 19, 'col_offset': 6, 'left_shape': (224, 5, 5), 'right_shape': (224, 3, 5), 'message': 'element-wise binary operation requires the same shape'}]\n"
     ]
    }
   ],
   "source": [
    "test(\"matmul.py\")\n",
    "# in this test, we first do a matmul and get a tensor with shape (224, 3, 5)\n",
    "# and add it with a tensor with shape (224, 5, 5), so we should get a warning message"
   ]
  },
  {
   "cell_type": "code",
   "execution_count": 4,
   "metadata": {},
   "outputs": [
    {
     "name": "stdout",
     "output_type": "stream",
     "text": [
      "[{'lineno': 43, 'col_offset': 13, 'left_shape': (100, 56, 56, 64), 'right_shape': (100, 1000), 'message': 'element-wise binary operation requires the same shape'}, {'lineno': 35, 'col_offset': 0, 'retval_shape': (100, 56, 56, 64), 'output_shape': (100, 1000), 'message': 'block_assert requires compatible shapes'}]\n"
     ]
    }
   ],
   "source": [
    "test(\"resnet.py\")\n",
    "# in this test, we create a resnet model\n",
    "# we wrongly add two tensors with different shapes, so we should get two warning messages"
   ]
  }
 ],
 "metadata": {
  "kernelspec": {
   "display_name": "office",
   "language": "python",
   "name": "python3"
  },
  "language_info": {
   "codemirror_mode": {
    "name": "ipython",
    "version": 3
   },
   "file_extension": ".py",
   "mimetype": "text/x-python",
   "name": "python",
   "nbconvert_exporter": "python",
   "pygments_lexer": "ipython3",
   "version": "3.12.1"
  }
 },
 "nbformat": 4,
 "nbformat_minor": 2
}
